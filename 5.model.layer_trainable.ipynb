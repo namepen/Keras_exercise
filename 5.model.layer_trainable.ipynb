{
 "cells": [
  {
   "cell_type": "markdown",
   "metadata": {},
   "source": [
    "# Model.variable"
   ]
  },
  {
   "cell_type": "markdown",
   "metadata": {},
   "source": [
    "model.trainable_variable를 설정했을 때, weight가 어떻게 변하는지 살펴보자."
   ]
  },
  {
   "cell_type": "code",
   "execution_count": 1,
   "metadata": {},
   "outputs": [],
   "source": [
    "#Set up\n",
    "import tensorflow as tf\n",
    "tf.enable_eager_execution()\n",
    "import tensorflow.contrib.eager as tfe\n",
    "\n",
    "from tensorflow import keras\n",
    "\n",
    "import matplotlib.pyplot as plt\n",
    "import numpy as np\n",
    "import time"
   ]
  },
  {
   "cell_type": "markdown",
   "metadata": {},
   "source": [
    "## Load the dataset"
   ]
  },
  {
   "cell_type": "code",
   "execution_count": 2,
   "metadata": {},
   "outputs": [],
   "source": [
    "(train_image, train_labels), (test_images, test_labels) = keras.datasets.mnist.load_data()"
   ]
  },
  {
   "cell_type": "code",
   "execution_count": 3,
   "metadata": {},
   "outputs": [],
   "source": [
    "train_image = train_image.reshape(-1,28,28,1) / 255\n",
    "\n",
    "train_labels = keras.utils.to_categorical(train_labels, num_classes=10)"
   ]
  },
  {
   "cell_type": "code",
   "execution_count": 4,
   "metadata": {},
   "outputs": [
    {
     "data": {
      "text/plain": [
       "(60000, 28, 28, 1)"
      ]
     },
     "execution_count": 4,
     "metadata": {},
     "output_type": "execute_result"
    }
   ],
   "source": [
    "train_image.shape"
   ]
  },
  {
   "cell_type": "code",
   "execution_count": 5,
   "metadata": {},
   "outputs": [],
   "source": [
    "#Just use 5000 data\n",
    "train_image = train_image[:5000]\n",
    "train_labels = train_labels[:5000]"
   ]
  },
  {
   "cell_type": "markdown",
   "metadata": {},
   "source": [
    "## Define simple CNN model"
   ]
  },
  {
   "cell_type": "code",
   "execution_count": 6,
   "metadata": {},
   "outputs": [],
   "source": [
    "#Case 1 : keras.Sequential\n",
    "model = keras.Sequential([\n",
    "    keras.layers.Conv2D(16, [3,3], activation=tf.nn.relu),\n",
    "    keras.layers.Conv2D(16, [3,3], activation=tf.nn.relu),\n",
    "    keras.layers.GlobalAvgPool2D(),\n",
    "    keras.layers.Dense(10, activation='softmax')\n",
    "])"
   ]
  },
  {
   "cell_type": "code",
   "execution_count": 7,
   "metadata": {},
   "outputs": [],
   "source": [
    "#Case 2 : def model\n",
    "def create_model():\n",
    "    \n",
    "    i = keras.layers.Input(shape=(28,28,1))\n",
    "    \n",
    "    x = keras.layers.Conv2D(16, [3,3], activation=tf.nn.relu)(i)\n",
    "    x = keras.layers.Conv2D(16, [3,3], activation=tf.nn.relu)(x)\n",
    "    x = keras.layers.GlobalAvgPool2D()(x)\n",
    "    x = keras.layers.Dense(10, activation=None)(x) #to use tf.losses.soft_max_cross_entropy\n",
    "    \n",
    "    model = keras.models.Model(inputs = i, outputs=x)\n",
    "    \n",
    "    return model"
   ]
  },
  {
   "cell_type": "code",
   "execution_count": 8,
   "metadata": {},
   "outputs": [],
   "source": [
    "model_2 = create_model()"
   ]
  },
  {
   "cell_type": "code",
   "execution_count": 9,
   "metadata": {},
   "outputs": [],
   "source": [
    "model.compile(optimizer=tf.train.AdamOptimizer(), loss='categorical_crossentropy', metrics=['accuracy'])\n",
    "model_2.compile(optimizer=tf.train.AdamOptimizer(), loss='categorical_crossentropy', metrics=['accuracy'])"
   ]
  },
  {
   "cell_type": "code",
   "execution_count": 10,
   "metadata": {},
   "outputs": [
    {
     "name": "stdout",
     "output_type": "stream",
     "text": [
      "_________________________________________________________________\n",
      "Layer (type)                 Output Shape              Param #   \n",
      "=================================================================\n",
      "input_1 (InputLayer)         (None, 28, 28, 1)         0         \n",
      "_________________________________________________________________\n",
      "conv2d_2 (Conv2D)            (None, 26, 26, 16)        160       \n",
      "_________________________________________________________________\n",
      "conv2d_3 (Conv2D)            (None, 24, 24, 16)        2320      \n",
      "_________________________________________________________________\n",
      "global_average_pooling2d_1 ( (None, 16)                0         \n",
      "_________________________________________________________________\n",
      "dense_1 (Dense)              (None, 10)                170       \n",
      "=================================================================\n",
      "Total params: 2,650\n",
      "Trainable params: 2,650\n",
      "Non-trainable params: 0\n",
      "_________________________________________________________________\n"
     ]
    }
   ],
   "source": [
    "model_2.summary()"
   ]
  },
  {
   "cell_type": "markdown",
   "metadata": {},
   "source": [
    "## Apply trainable False in dense layer\n",
    "\n",
    "Dense layer에만 False를 설정해서 해당 layer가 업데이트되는지 확인한다."
   ]
  },
  {
   "cell_type": "code",
   "execution_count": 12,
   "metadata": {},
   "outputs": [
    {
     "name": "stdout",
     "output_type": "stream",
     "text": [
      "<tensorflow.python.keras.layers.core.Dense object at 0x000001E9481239E8>\n",
      "<tensorflow.python.keras.layers.core.Dense object at 0x000001E94812F550>\n"
     ]
    }
   ],
   "source": [
    "print(model.layers[3])\n",
    "print(model_2.layers[4])"
   ]
  },
  {
   "cell_type": "code",
   "execution_count": 13,
   "metadata": {},
   "outputs": [],
   "source": [
    "#change dense layer trainable False\n",
    "model.layers[3].trainable = False\n",
    "model_2.layers[4].trainable = False"
   ]
  },
  {
   "cell_type": "markdown",
   "metadata": {},
   "source": [
    "## Training model"
   ]
  },
  {
   "cell_type": "code",
   "execution_count": 17,
   "metadata": {},
   "outputs": [
    {
     "name": "stdout",
     "output_type": "stream",
     "text": [
      "Epoch 1/1\n",
      "157/157 [==============================] - 11s 73ms/step - loss: 2.2781 - acc: 0.0979\n"
     ]
    },
    {
     "data": {
      "text/plain": [
       "<tensorflow.python.keras.callbacks.History at 0x1e948ab2080>"
      ]
     },
     "execution_count": 17,
     "metadata": {},
     "output_type": "execute_result"
    }
   ],
   "source": [
    "model.fit(train_image, train_labels, batch_size=32, epochs=1)"
   ]
  },
  {
   "cell_type": "code",
   "execution_count": 15,
   "metadata": {},
   "outputs": [
    {
     "name": "stdout",
     "output_type": "stream",
     "text": [
      "Epoch 1/1\n",
      "157/157 [==============================] - 12s 74ms/step - loss: 8.7844 - acc: 0.1025\n"
     ]
    },
    {
     "data": {
      "text/plain": [
       "<tensorflow.python.keras.callbacks.History at 0x1e948c29cf8>"
      ]
     },
     "execution_count": 15,
     "metadata": {},
     "output_type": "execute_result"
    }
   ],
   "source": [
    "model_2.fit(train_image, train_labels, batch_size=32, epochs=1)"
   ]
  },
  {
   "cell_type": "markdown",
   "metadata": {},
   "source": [
    "## Check the layer weight values\n",
    "\n",
    "마지막 dense의 bias가 초기값인 0인 것으로 보아, 해당 layer가 업데이트되지 않았음을 확인할 수 있다."
   ]
  },
  {
   "cell_type": "code",
   "execution_count": 16,
   "metadata": {},
   "outputs": [
    {
     "data": {
      "text/plain": [
       "[<tf.Variable 'dense/kernel:0' shape=(16, 10) dtype=float32, numpy=\n",
       " array([[-0.06524268, -0.06301078,  0.20012039, -0.33915892, -0.15785557,\n",
       "         -0.3247599 , -0.02898121,  0.40953153, -0.44148073,  0.2055642 ],\n",
       "        [-0.45496157, -0.47648293,  0.16975194, -0.4567982 , -0.41078016,\n",
       "          0.19211262,  0.07545751,  0.3764953 , -0.42544845,  0.39349824],\n",
       "        [ 0.23093444, -0.4273506 ,  0.23896319, -0.3221113 ,  0.2929638 ,\n",
       "          0.21329874, -0.10462677, -0.3884179 ,  0.27275258,  0.2980827 ],\n",
       "        [ 0.18233633, -0.17863235,  0.13755113, -0.18339542,  0.3298977 ,\n",
       "          0.05414987,  0.3123647 ,  0.4149763 ,  0.39305544, -0.09890416],\n",
       "        [ 0.35792953, -0.32222092, -0.36607796,  0.42394054,  0.3184749 ,\n",
       "          0.19352591,  0.45282483,  0.2298907 , -0.31858498, -0.02650949],\n",
       "        [ 0.16544688,  0.07125747, -0.1324763 , -0.07750696, -0.26832098,\n",
       "          0.3827796 , -0.43935832,  0.40890825, -0.2539935 ,  0.11252004],\n",
       "        [-0.11604178,  0.21509767, -0.03915995, -0.35781616,  0.23669386,\n",
       "         -0.43775854, -0.26395512,  0.42701685,  0.12921786,  0.27562618],\n",
       "        [-0.20350423,  0.15016365, -0.25484312, -0.08056107, -0.1980983 ,\n",
       "          0.27570915,  0.17195326, -0.132162  ,  0.21843827,  0.45584565],\n",
       "        [ 0.31185788,  0.18944287,  0.07629585, -0.13656658, -0.33191508,\n",
       "         -0.43238834,  0.00340483, -0.39253742,  0.3471508 , -0.19086203],\n",
       "        [ 0.26918536,  0.4703684 , -0.20226213, -0.02309436, -0.11448482,\n",
       "          0.41072494,  0.03245729, -0.24693695, -0.07743204,  0.03505683],\n",
       "        [-0.3682305 , -0.11374894,  0.10743546, -0.00504953,  0.21284139,\n",
       "          0.40770656,  0.03867859, -0.3589907 , -0.46171656,  0.29854143],\n",
       "        [ 0.17145216,  0.23045969, -0.35382652,  0.46176606,  0.14661682,\n",
       "         -0.376095  , -0.20245066,  0.04628581, -0.27996182, -0.4687585 ],\n",
       "        [ 0.10950756, -0.45175624, -0.38244045,  0.04342091, -0.18089607,\n",
       "         -0.40972233, -0.03109708,  0.02299321,  0.24336272,  0.4418398 ],\n",
       "        [-0.23410287, -0.3056744 ,  0.01717818, -0.24153432,  0.4574483 ,\n",
       "         -0.35717225,  0.31026268,  0.2467972 ,  0.1632101 , -0.300919  ],\n",
       "        [-0.17678699, -0.21819177, -0.16631186, -0.3595801 , -0.20513657,\n",
       "          0.35342783, -0.2673046 , -0.21205798, -0.20441797,  0.29924005],\n",
       "        [-0.2914381 , -0.01434419,  0.12899667, -0.20589098, -0.46718755,\n",
       "         -0.19233295,  0.19167829, -0.2272056 , -0.05678824, -0.40126216]],\n",
       "       dtype=float32)>,\n",
       " <tf.Variable 'dense/bias:0' shape=(10,) dtype=float32, numpy=array([0., 0., 0., 0., 0., 0., 0., 0., 0., 0.], dtype=float32)>]"
      ]
     },
     "execution_count": 16,
     "metadata": {},
     "output_type": "execute_result"
    }
   ],
   "source": [
    "model.variables[4:]"
   ]
  },
  {
   "cell_type": "code",
   "execution_count": 18,
   "metadata": {},
   "outputs": [
    {
     "data": {
      "text/plain": [
       "[<tf.Variable 'dense/kernel:0' shape=(16, 10) dtype=float32, numpy=\n",
       " array([[-0.06524268, -0.06301078,  0.20012039, -0.33915892, -0.15785557,\n",
       "         -0.3247599 , -0.02898121,  0.40953153, -0.44148073,  0.2055642 ],\n",
       "        [-0.45496157, -0.47648293,  0.16975194, -0.4567982 , -0.41078016,\n",
       "          0.19211262,  0.07545751,  0.3764953 , -0.42544845,  0.39349824],\n",
       "        [ 0.23093444, -0.4273506 ,  0.23896319, -0.3221113 ,  0.2929638 ,\n",
       "          0.21329874, -0.10462677, -0.3884179 ,  0.27275258,  0.2980827 ],\n",
       "        [ 0.18233633, -0.17863235,  0.13755113, -0.18339542,  0.3298977 ,\n",
       "          0.05414987,  0.3123647 ,  0.4149763 ,  0.39305544, -0.09890416],\n",
       "        [ 0.35792953, -0.32222092, -0.36607796,  0.42394054,  0.3184749 ,\n",
       "          0.19352591,  0.45282483,  0.2298907 , -0.31858498, -0.02650949],\n",
       "        [ 0.16544688,  0.07125747, -0.1324763 , -0.07750696, -0.26832098,\n",
       "          0.3827796 , -0.43935832,  0.40890825, -0.2539935 ,  0.11252004],\n",
       "        [-0.11604178,  0.21509767, -0.03915995, -0.35781616,  0.23669386,\n",
       "         -0.43775854, -0.26395512,  0.42701685,  0.12921786,  0.27562618],\n",
       "        [-0.20350423,  0.15016365, -0.25484312, -0.08056107, -0.1980983 ,\n",
       "          0.27570915,  0.17195326, -0.132162  ,  0.21843827,  0.45584565],\n",
       "        [ 0.31185788,  0.18944287,  0.07629585, -0.13656658, -0.33191508,\n",
       "         -0.43238834,  0.00340483, -0.39253742,  0.3471508 , -0.19086203],\n",
       "        [ 0.26918536,  0.4703684 , -0.20226213, -0.02309436, -0.11448482,\n",
       "          0.41072494,  0.03245729, -0.24693695, -0.07743204,  0.03505683],\n",
       "        [-0.3682305 , -0.11374894,  0.10743546, -0.00504953,  0.21284139,\n",
       "          0.40770656,  0.03867859, -0.3589907 , -0.46171656,  0.29854143],\n",
       "        [ 0.17145216,  0.23045969, -0.35382652,  0.46176606,  0.14661682,\n",
       "         -0.376095  , -0.20245066,  0.04628581, -0.27996182, -0.4687585 ],\n",
       "        [ 0.10950756, -0.45175624, -0.38244045,  0.04342091, -0.18089607,\n",
       "         -0.40972233, -0.03109708,  0.02299321,  0.24336272,  0.4418398 ],\n",
       "        [-0.23410287, -0.3056744 ,  0.01717818, -0.24153432,  0.4574483 ,\n",
       "         -0.35717225,  0.31026268,  0.2467972 ,  0.1632101 , -0.300919  ],\n",
       "        [-0.17678699, -0.21819177, -0.16631186, -0.3595801 , -0.20513657,\n",
       "          0.35342783, -0.2673046 , -0.21205798, -0.20441797,  0.29924005],\n",
       "        [-0.2914381 , -0.01434419,  0.12899667, -0.20589098, -0.46718755,\n",
       "         -0.19233295,  0.19167829, -0.2272056 , -0.05678824, -0.40126216]],\n",
       "       dtype=float32)>,\n",
       " <tf.Variable 'dense/bias:0' shape=(10,) dtype=float32, numpy=array([0., 0., 0., 0., 0., 0., 0., 0., 0., 0.], dtype=float32)>]"
      ]
     },
     "execution_count": 18,
     "metadata": {},
     "output_type": "execute_result"
    }
   ],
   "source": [
    "model.variables[4:]"
   ]
  },
  {
   "cell_type": "markdown",
   "metadata": {},
   "source": [
    "## Apply in grad function\n",
    "\n",
    "Tensorflow low-level로 모델을 학습시키는 과정에 trainable를 적용해보자."
   ]
  },
  {
   "cell_type": "code",
   "execution_count": 21,
   "metadata": {},
   "outputs": [],
   "source": [
    "train_image = tf.cast(train_image, tf.float32)"
   ]
  },
  {
   "cell_type": "code",
   "execution_count": 22,
   "metadata": {},
   "outputs": [],
   "source": [
    "### convert tf.data\n",
    "train_data = tf.data.Dataset.from_tensor_slices((train_image, train_labels))\n",
    "train_data = train_data.batch(32)"
   ]
  },
  {
   "cell_type": "code",
   "execution_count": 23,
   "metadata": {},
   "outputs": [
    {
     "name": "stdout",
     "output_type": "stream",
     "text": [
      "(32, 28, 28, 1)\n",
      "(32, 10)\n"
     ]
    }
   ],
   "source": [
    "x,y = tfe.Iterator(train_data).next()\n",
    "print(x.shape)\n",
    "print(y.shape)"
   ]
  },
  {
   "cell_type": "markdown",
   "metadata": {},
   "source": [
    "## Define loss and optimizer"
   ]
  },
  {
   "cell_type": "code",
   "execution_count": 24,
   "metadata": {},
   "outputs": [],
   "source": [
    "def loss_f(y_pred, labels):\n",
    "    loss = tf.losses.softmax_cross_entropy(labels, y_pred)\n",
    "    return loss"
   ]
  },
  {
   "cell_type": "code",
   "execution_count": 25,
   "metadata": {},
   "outputs": [
    {
     "data": {
      "text/plain": [
       "<tf.Tensor: id=90802, shape=(), dtype=float32, numpy=2.2911422>"
      ]
     },
     "execution_count": 25,
     "metadata": {},
     "output_type": "execute_result"
    }
   ],
   "source": [
    "loss_f(model_3(x), y)"
   ]
  },
  {
   "cell_type": "code",
   "execution_count": 72,
   "metadata": {},
   "outputs": [],
   "source": [
    "optimizer = tf.train.AdamOptimizer(learning_rate=.01)\n",
    "global_step = tf.train.get_or_create_global_step()"
   ]
  },
  {
   "cell_type": "markdown",
   "metadata": {},
   "source": [
    "## Define the model and training"
   ]
  },
  {
   "cell_type": "code",
   "execution_count": 45,
   "metadata": {},
   "outputs": [],
   "source": [
    "model_3 = create_model()"
   ]
  },
  {
   "cell_type": "code",
   "execution_count": 47,
   "metadata": {},
   "outputs": [],
   "source": [
    "model_3.layers[4].trainable = False"
   ]
  },
  {
   "cell_type": "code",
   "execution_count": 48,
   "metadata": {},
   "outputs": [],
   "source": [
    "#for plot\n",
    "train_loss_hist = []\n",
    "train_acc_hist = []"
   ]
  },
  {
   "cell_type": "code",
   "execution_count": 70,
   "metadata": {},
   "outputs": [],
   "source": [
    "def training(model, train_data):\n",
    "    start = time.time()\n",
    "    iterator = tfe.Iterator(train_data)\n",
    "    epoch_loss = tfe.metrics.Mean()\n",
    "    epoch_acc = tfe.metrics.Accuracy()\n",
    "\n",
    "    for img, label in iterator:\n",
    "        with tf.GradientTape() as tape:\n",
    "            pred = model(img, training=True)\n",
    "            loss = loss_f(pred, label)\n",
    "        variable = model.variables\n",
    "        grad = tape.gradient(loss, variable)\n",
    "        optimizer.apply_gradients([(g,v) for g, v in zip(grad, variable)], global_step)\n",
    "        \n",
    "        epoch_loss(loss)\n",
    "        epoch_acc(tf.argmax(pred, axis=0), tf.argmax(y, axis=0))\n",
    "        \n",
    "        train_loss_hist.append(epoch_loss.result())\n",
    "        train_acc_hist.append(epoch_acc.result())\n",
    "\n",
    "        if global_step.numpy() % 10 ==  0:\n",
    "             print(\"Epoch : {}, Loss : {:.3f}\".format(global_step.numpy(), loss))\n",
    "                \n",
    "    print(\"End training : {:.2f}s\".format((time.time()-start)))"
   ]
  },
  {
   "cell_type": "code",
   "execution_count": 71,
   "metadata": {},
   "outputs": [
    {
     "name": "stdout",
     "output_type": "stream",
     "text": [
      "Epoch : 800, Loss : 2.352\n",
      "Epoch : 810, Loss : 2.279\n",
      "Epoch : 820, Loss : 2.339\n",
      "Epoch : 830, Loss : 2.294\n",
      "Epoch : 840, Loss : 2.322\n",
      "Epoch : 850, Loss : 2.329\n",
      "Epoch : 860, Loss : 2.304\n",
      "Epoch : 870, Loss : 2.330\n",
      "Epoch : 880, Loss : 2.295\n",
      "Epoch : 890, Loss : 2.336\n",
      "Epoch : 900, Loss : 2.264\n",
      "Epoch : 910, Loss : 2.270\n",
      "Epoch : 920, Loss : 2.304\n",
      "Epoch : 930, Loss : 2.305\n",
      "Epoch : 940, Loss : 2.297\n",
      "End training :9.698448896408081s\n"
     ]
    }
   ],
   "source": [
    "training(model_3, train_data)"
   ]
  },
  {
   "cell_type": "code",
   "execution_count": 52,
   "metadata": {},
   "outputs": [
    {
     "data": {
      "text/plain": [
       "[<tf.Variable 'dense_3/kernel:0' shape=(16, 10) dtype=float32, numpy=\n",
       " array([[-0.45772293, -0.07714962, -0.09146898,  0.32559663,  0.14121312,\n",
       "         -0.31564295, -0.34674475,  0.31994423,  0.34491792, -0.2642664 ],\n",
       "        [-0.00925233,  0.25148568,  0.5816645 , -0.15537213,  0.55075365,\n",
       "          0.14675498,  0.3779239 ,  0.24825016, -0.2113397 ,  0.13481595],\n",
       "        [-0.12234296,  0.4343408 ,  0.11925983,  0.06176313,  0.47407475,\n",
       "          0.18234634,  0.15771739,  0.27368525,  0.23689087,  0.06166781],\n",
       "        [-0.30882064, -0.24325848, -0.30091697, -0.12990883, -0.29063466,\n",
       "          0.09312929, -0.22254248, -0.20085086,  0.16743022, -0.47521797],\n",
       "        [ 0.54994845,  0.6725851 , -0.2798149 , -0.45389056,  0.34819686,\n",
       "         -0.8055184 ,  0.48391423, -0.441198  ,  0.37295783, -0.38631412],\n",
       "        [ 0.23501493, -1.7059631 ,  0.42837575,  0.1037536 , -0.1712815 ,\n",
       "         -0.0441816 ,  0.15631196, -0.19648983,  0.00533028, -0.1714201 ],\n",
       "        [ 0.15900092, -0.2533721 ,  0.2739002 , -0.27413803,  0.26182634,\n",
       "         -0.4424602 , -0.04242756, -0.10778888,  0.30432677,  0.2353587 ],\n",
       "        [-0.29048398,  0.14408697,  0.19434373, -0.16758594,  0.11031867,\n",
       "         -0.5675879 ,  0.5286832 , -0.37261334,  0.22610934, -0.37412345],\n",
       "        [ 0.5209286 , -0.3775567 ,  0.40737617, -0.51775295, -0.09852474,\n",
       "         -0.64573   ,  0.581956  , -0.53003323,  0.10682411, -0.15589124],\n",
       "        [ 0.06321909, -2.2652373 ,  0.456645  ,  0.6517026 , -0.7153098 ,\n",
       "          1.1727192 , -0.80055803,  0.19407125, -0.1198879 ,  0.08783797],\n",
       "        [ 0.28949606,  0.52438754, -0.14825389,  0.12449029,  0.26411077,\n",
       "         -0.39355803,  0.3080821 , -0.26513323,  0.00525441, -0.05556927],\n",
       "        [-0.22496384,  0.34176   ,  0.00946801,  0.21496838,  0.40121886,\n",
       "          0.04106349,  0.35508913, -0.00989396,  0.07917075, -0.23120251],\n",
       "        [-0.20274067, -2.33173   ,  0.22184308,  0.8614636 , -0.9624469 ,\n",
       "          0.43545213, -0.3242304 , -0.18734804,  0.33882213, -0.32359323],\n",
       "        [ 0.0376498 , -0.16924784,  0.17635551,  0.04578682,  0.04928923,\n",
       "          0.19772553, -0.51669884,  0.33338377, -0.28292182,  0.04605   ],\n",
       "        [-0.41640517,  1.2202508 , -0.5495189 , -0.8704762 ,  0.6283623 ,\n",
       "         -0.60472375,  0.01111725,  0.4086998 , -0.5009409 ,  0.49318337],\n",
       "        [-0.45352918, -0.30918857, -0.36548397,  0.09393068,  0.4348208 ,\n",
       "         -0.25290334,  0.31693986, -0.57399327,  0.18198527,  0.08950457]],\n",
       "       dtype=float32)>,\n",
       " <tf.Variable 'dense_3/bias:0' shape=(10,) dtype=float32, numpy=\n",
       " array([-0.6632581 ,  0.8388216 , -0.21425064, -0.32628995,  0.07748878,\n",
       "        -0.02922523,  0.10530715,  0.32843524, -0.09405211,  0.07284648],\n",
       "       dtype=float32)>]"
      ]
     },
     "execution_count": 52,
     "metadata": {},
     "output_type": "execute_result"
    }
   ],
   "source": [
    "model_3.variables[4:]"
   ]
  },
  {
   "cell_type": "markdown",
   "metadata": {},
   "source": [
    "Though we set `layer.trainable` is 'False', layer's weights are updated.\n",
    "\n",
    "So we change grad function like that: `grad = tape.gradient(loss, model.trainable_variable)`"
   ]
  },
  {
   "cell_type": "code",
   "execution_count": 53,
   "metadata": {},
   "outputs": [],
   "source": [
    "def training2(model, train_data):\n",
    "    start = time.time()\n",
    "    iterator = tfe.Iterator(train_data)\n",
    "    epoch_loss = tfe.metrics.Mean()\n",
    "    epoch_acc = tfe.metrics.Accuracy()\n",
    "\n",
    "    for img, label in iterator:\n",
    "        with tf.GradientTape() as tape:\n",
    "            pred = model(img, training=True)\n",
    "            loss = loss_f(pred, label)\n",
    "        variable = model.trainable_variables\n",
    "        grad = tape.gradient(loss, variable)\n",
    "        optimizer.apply_gradients([(g,v) for g, v in zip(grad, variable)], global_step)\n",
    "        \n",
    "        epoch_loss(loss)\n",
    "        epoch_acc(tf.argmax(pred, axis=0), tf.argmax(y, axis=0))\n",
    "        \n",
    "        train_loss_hist.append(epoch_loss.result())\n",
    "        train_acc_hist.append(epoch_acc.result())\n",
    "\n",
    "        if global_step.numpy() % 10 ==  0:\n",
    "             print(\"Epoch : {}, Loss : {:.3f}\".format(global_step.numpy(), loss))\n",
    "        \n",
    "    print(\"End training :{}s\".format((time.time()-start)))"
   ]
  },
  {
   "cell_type": "code",
   "execution_count": 56,
   "metadata": {},
   "outputs": [],
   "source": [
    "model_4 = create_model()\n",
    "model_4.layers[4].trainable = False"
   ]
  },
  {
   "cell_type": "code",
   "execution_count": 57,
   "metadata": {},
   "outputs": [
    {
     "name": "stdout",
     "output_type": "stream",
     "text": [
      "Epoch : 320, Loss : 2.334\n",
      "Epoch : 330, Loss : 2.297\n",
      "Epoch : 340, Loss : 2.271\n",
      "Epoch : 350, Loss : 2.228\n",
      "Epoch : 360, Loss : 2.262\n",
      "Epoch : 370, Loss : 2.237\n",
      "Epoch : 380, Loss : 2.222\n",
      "Epoch : 390, Loss : 2.243\n",
      "Epoch : 400, Loss : 2.177\n",
      "Epoch : 410, Loss : 2.225\n",
      "Epoch : 420, Loss : 2.204\n",
      "Epoch : 430, Loss : 2.217\n",
      "Epoch : 440, Loss : 2.062\n",
      "Epoch : 450, Loss : 2.229\n",
      "Epoch : 460, Loss : 2.187\n",
      "Epoch : 470, Loss : 2.109\n",
      "End training :9.189740896224976s\n"
     ]
    }
   ],
   "source": [
    "training2(model_4, train_data)"
   ]
  },
  {
   "cell_type": "code",
   "execution_count": 58,
   "metadata": {},
   "outputs": [
    {
     "data": {
      "text/plain": [
       "[<tf.Variable 'dense_6/kernel:0' shape=(16, 10) dtype=float32, numpy=\n",
       " array([[-0.35022792, -0.38278586, -0.44521713,  0.2181468 , -0.2912386 ,\n",
       "          0.4096471 ,  0.47828656,  0.17735028, -0.10145628,  0.41595602],\n",
       "        [ 0.47846866, -0.44271883,  0.47204155, -0.07375911, -0.34827596,\n",
       "          0.3929022 ,  0.39748555, -0.11276248,  0.38856405, -0.22698146],\n",
       "        [-0.13984519,  0.35900992,  0.1375565 , -0.3162738 , -0.12143007,\n",
       "          0.44674718,  0.35331345,  0.07957345,  0.22580683, -0.38694674],\n",
       "        [-0.10961318, -0.3276602 , -0.20238057,  0.07191193, -0.05005911,\n",
       "          0.01051021,  0.45584345,  0.11884838,  0.41268438, -0.23318066],\n",
       "        [-0.17419913, -0.13065568, -0.11781806, -0.12008375,  0.02953851,\n",
       "         -0.17681289, -0.03113386, -0.07556254,  0.17338902,  0.43686748],\n",
       "        [-0.19578063, -0.46347257, -0.24879786,  0.13706928, -0.12228966,\n",
       "         -0.36498475, -0.25187021,  0.44119292,  0.47809303,  0.26554102],\n",
       "        [ 0.03156841,  0.44536394, -0.00161469,  0.30145127,  0.37618124,\n",
       "         -0.27340704, -0.11530569,  0.30572093,  0.25981188, -0.3933136 ],\n",
       "        [-0.00476778,  0.31607223, -0.47530907, -0.11189765,  0.06859243,\n",
       "         -0.12204924, -0.38589293,  0.2886598 , -0.015733  , -0.2063143 ],\n",
       "        [ 0.08126807,  0.11621016, -0.2566161 , -0.05083746, -0.31328556,\n",
       "          0.13186294, -0.0961808 , -0.4633735 ,  0.19971216,  0.42691827],\n",
       "        [-0.14883348, -0.38054287, -0.34580228, -0.2267785 , -0.3378921 ,\n",
       "          0.22799408,  0.37107915, -0.43571436, -0.17716679,  0.293778  ],\n",
       "        [ 0.33265907, -0.06209958,  0.15180779,  0.333363  ,  0.2346136 ,\n",
       "          0.06209922, -0.18689358,  0.45430976, -0.31588107,  0.2518747 ],\n",
       "        [ 0.08230907, -0.17329708,  0.12925595,  0.11692369, -0.22237897,\n",
       "          0.03078294, -0.24487066, -0.3861199 , -0.16049588, -0.26758432],\n",
       "        [ 0.352306  , -0.28670496,  0.37518585,  0.16235793, -0.3193006 ,\n",
       "         -0.16424602, -0.4611659 ,  0.27044338,  0.34066963,  0.05344605],\n",
       "        [-0.37310272, -0.16521347,  0.05775774,  0.32548684, -0.10394621,\n",
       "          0.3446039 , -0.18447223, -0.34759596,  0.32320005,  0.05953681],\n",
       "        [-0.48017865,  0.30609626,  0.1689682 ,  0.2528152 , -0.11128935,\n",
       "         -0.04901993, -0.25793815,  0.06130654,  0.10093874, -0.29202774],\n",
       "        [ 0.07466531,  0.16366214,  0.03775191, -0.47401977, -0.09665576,\n",
       "          0.19718558, -0.15764412,  0.06710851, -0.2815046 , -0.34278616]],\n",
       "       dtype=float32)>,\n",
       " <tf.Variable 'dense_6/bias:0' shape=(10,) dtype=float32, numpy=array([0., 0., 0., 0., 0., 0., 0., 0., 0., 0.], dtype=float32)>]"
      ]
     },
     "execution_count": 58,
     "metadata": {},
     "output_type": "execute_result"
    }
   ],
   "source": [
    "model_4.variables[4:]"
   ]
  },
  {
   "cell_type": "code",
   "execution_count": null,
   "metadata": {},
   "outputs": [],
   "source": []
  }
 ],
 "metadata": {
  "kernelspec": {
   "display_name": "Python 3",
   "language": "python",
   "name": "python3"
  },
  "language_info": {
   "codemirror_mode": {
    "name": "ipython",
    "version": 3
   },
   "file_extension": ".py",
   "mimetype": "text/x-python",
   "name": "python",
   "nbconvert_exporter": "python",
   "pygments_lexer": "ipython3",
   "version": "3.6.8"
  }
 },
 "nbformat": 4,
 "nbformat_minor": 2
}
