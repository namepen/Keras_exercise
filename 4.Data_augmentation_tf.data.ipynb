{
 "cells": [
  {
   "cell_type": "markdown",
   "metadata": {},
   "source": [
    "# Tensorfow tf.Data and Dataset API을 활용하는 간단한 Data augmentation과정."
   ]
  },
  {
   "cell_type": "markdown",
   "metadata": {},
   "source": [
    ">* Wouter Bulten의 [imple and efficient data augmentations using the Tensorfow tf.Data and Dataset API](https://www.wouterbulten.nl/blog/tech/data-augmentation-using-tensorflow-data-dataset/) 글을 번역한 내용입니다.\n",
    ">\n",
    ">* [Tensorflow Documnet, tf.image](https://www.tensorflow.org/api_docs/python/tf/image)"
   ]
  },
  {
   "cell_type": "markdown",
   "metadata": {},
   "source": [
    "<i><font color=gray>Summary: The tf.data API of Tensorflow is a great way to build a pipeline for sending data to the GPU. In this post I give a few examples of augmentations and how to implement them using this API.<font></i>"
   ]
  },
  {
   "cell_type": "markdown",
   "metadata": {},
   "source": [
    "Tensorflow의 `tf.data` API는 data를 GPU로 보내는 pipeline을 구성하기 좋은 방법이다. 하지만 Data augmentation 과정을 만드는게(setting) 조금 어렵기도(tricky)하다. Tutorial에서 data augmentation popeline을 구성하는 방법을 알아보자."
   ]
  },
  {
   "cell_type": "markdown",
   "metadata": {},
   "source": [
    "## The table of contents"
   ]
  },
  {
   "cell_type": "markdown",
   "metadata": {},
   "source": [
    "* 회전과 반전(Rotation and flipping)\n",
    "* 색 반전(Color augmentations)\n",
    "* 확대 및 축소(Zooming)\n",
    "* 여러 과정을 함께사용(All augmentations combine)\n",
    "* Full code example"
   ]
  },
  {
   "cell_type": "markdown",
   "metadata": {},
   "source": [
    "## Some sample data"
   ]
  },
  {
   "cell_type": "markdown",
   "metadata": {},
   "source": [
    "augmentation techniques을 실습하기 위해 DEMO DATA로 __CIFAR10__ dataset을 사용할 것이다. CIFAR10은 Tensorflow에서 쉽게 불러올 수 있다. 여기서는 먼저 8개의 예시용 이미지를 사용할 것이고, 원하는 데이터로 대체해도 상관없다."
   ]
  },
  {
   "cell_type": "code",
   "execution_count": 1,
   "metadata": {},
   "outputs": [],
   "source": [
    "import tensorflow as tf\n",
    "tf.enable_eager_execution()\n",
    "\n",
    "import numpy as np\n",
    "import matplotlib.pyplot as plt"
   ]
  },
  {
   "cell_type": "markdown",
   "metadata": {},
   "source": [
    "`keras.dataset`을 이용해서 cifar10을 바로 불러올 수 있다."
   ]
  },
  {
   "cell_type": "code",
   "execution_count": 2,
   "metadata": {},
   "outputs": [],
   "source": [
    "(x_train, y_train), (x_test, y_test) = tf.keras.datasets.cifar10.load_data()"
   ]
  },
  {
   "cell_type": "code",
   "execution_count": 3,
   "metadata": {},
   "outputs": [
    {
     "data": {
      "text/plain": [
       "(50000, 32, 32, 3)"
      ]
     },
     "execution_count": 3,
     "metadata": {},
     "output_type": "execute_result"
    }
   ],
   "source": [
    "x_train.shape"
   ]
  },
  {
   "cell_type": "markdown",
   "metadata": {},
   "source": [
    "불러온 data를 `tf.dat.Dataset`형태로 불러오자. `tf.data`에 관한 내용은 [Tensorflow, 'Importing data'](https://www.tensorflow.org/guide/datasets)를 참고하면 좋다."
   ]
  },
  {
   "cell_type": "code",
   "execution_count": 4,
   "metadata": {},
   "outputs": [
    {
     "name": "stdout",
     "output_type": "stream",
     "text": [
      "<TensorSliceDataset shapes: (32, 32, 3), types: tf.float32>\n"
     ]
    }
   ],
   "source": [
    "dataset = tf.data.Dataset.from_tensor_slices((x_train[0:8] / 255).astype(np.float32))\n",
    "print(dataset)"
   ]
  },
  {
   "cell_type": "markdown",
   "metadata": {},
   "source": [
    "tf.data의 `repeat`과 `batch`를 적용하면 어떻게 output이 정해지는 지 실험해보자.\n",
    "\n",
    "기본적으로 dataset을 출력하면 (32,32,3)이 나온다. 저장된 8장의 이미지 중, 1장을 불러온다고 볼 수 있다. 이 과정을 반복해주면 8장의 이미지를 모두 볼러오고 반복을 종료하게 된다."
   ]
  },
  {
   "cell_type": "code",
   "execution_count": 5,
   "metadata": {},
   "outputs": [
    {
     "name": "stdout",
     "output_type": "stream",
     "text": [
      "(32, 32, 3)\n",
      "(32, 32, 3)\n",
      "(32, 32, 3)\n",
      "(32, 32, 3)\n",
      "(32, 32, 3)\n",
      "(32, 32, 3)\n",
      "(32, 32, 3)\n",
      "(32, 32, 3)\n"
     ]
    }
   ],
   "source": [
    "for i in dataset:\n",
    "    print(i.shape)"
   ]
  },
  {
   "cell_type": "markdown",
   "metadata": {},
   "source": [
    "아래에서는 `repeat`을 적용해보자. 8장의 이미지를 불러오는 과정을 2번 반복하므로 16장의 이미지를 사용하는 것을 볼 수 있다."
   ]
  },
  {
   "cell_type": "code",
   "execution_count": 6,
   "metadata": {},
   "outputs": [
    {
     "name": "stdout",
     "output_type": "stream",
     "text": [
      "(32, 32, 3)\n",
      "(32, 32, 3)\n",
      "(32, 32, 3)\n",
      "(32, 32, 3)\n",
      "(32, 32, 3)\n",
      "(32, 32, 3)\n",
      "(32, 32, 3)\n",
      "(32, 32, 3)\n",
      "(32, 32, 3)\n",
      "(32, 32, 3)\n",
      "(32, 32, 3)\n",
      "(32, 32, 3)\n",
      "(32, 32, 3)\n",
      "(32, 32, 3)\n",
      "(32, 32, 3)\n",
      "(32, 32, 3)\n"
     ]
    }
   ],
   "source": [
    "for i in dataset.repeat(2):\n",
    "    print(i.shape)"
   ]
  },
  {
   "cell_type": "markdown",
   "metadata": {},
   "source": [
    "`batch`를 적용하게 되면, batch size 만큼 묶어서 반복하게 된다. 8장의 이미지를 batch_size=4로 묶었으므로 2개의 batch를 생성한다."
   ]
  },
  {
   "cell_type": "code",
   "execution_count": 7,
   "metadata": {},
   "outputs": [
    {
     "name": "stdout",
     "output_type": "stream",
     "text": [
      "(4, 32, 32, 3)\n",
      "(4, 32, 32, 3)\n"
     ]
    }
   ],
   "source": [
    "for i in dataset.batch(4):\n",
    "    print(i.shape)"
   ]
  },
  {
   "cell_type": "markdown",
   "metadata": {},
   "source": [
    "'map'은 dataset를 불러오면서 lambda로 정의한 함수를 통과시켜 결과로 출력해준다. 간단하게 이미지 앞에 차원을 추가하는 함수를 적용하면 다음과 같다.\n",
    "\n",
    "아래의 augmentation 과정은 함수를 정의해서 map을 추가하는 방법을 사용할 것이다."
   ]
  },
  {
   "cell_type": "code",
   "execution_count": 8,
   "metadata": {},
   "outputs": [
    {
     "name": "stdout",
     "output_type": "stream",
     "text": [
      "(1, 32, 32, 3)\n",
      "(1, 32, 32, 3)\n",
      "(1, 32, 32, 3)\n",
      "(1, 32, 32, 3)\n",
      "(1, 32, 32, 3)\n",
      "(1, 32, 32, 3)\n",
      "(1, 32, 32, 3)\n",
      "(1, 32, 32, 3)\n"
     ]
    }
   ],
   "source": [
    "for i in dataset.map(lambda x : tf.expand_dims(x, axis=0)):\n",
    "    print(i.shape)"
   ]
  },
  {
   "cell_type": "markdown",
   "metadata": {},
   "source": [
    "만든 dataset의 image를 plot에 출력해보자."
   ]
  },
  {
   "cell_type": "code",
   "execution_count": null,
   "metadata": {},
   "outputs": [],
   "source": [
    "def plot_images(dataset, n_images, samples_per_image):\n",
    "    '''\n",
    "    dataset : Input dataset\n",
    "    n_images : sample images number. In tutorial, n_images =8\n",
    "    samples_per_image : repeat images. In tutorial, samples_per_image=10\n",
    "    '''\n",
    "    output = np.zeros((32*n_images, 32*samples_per_image, 3))\n",
    "    \n",
    "    row = 0\n",
    "    \n",
    "    for images in dataset.repeat(samples_per_image).batch(n_images):\n",
    "        output[:, row*32:(row+1)*32] = np.vstack(images.numpy())\n",
    "        row +=1\n",
    "        \n",
    "    plt.figure()\n",
    "    plt.imshow(output)\n",
    "    plt.show()"
   ]
  },
  {
   "cell_type": "code",
   "execution_count": null,
   "metadata": {},
   "outputs": [],
   "source": [
    "#plot_images(dataset, 8,10)"
   ]
  },
  {
   "cell_type": "markdown",
   "metadata": {},
   "source": [
    "<br>\n",
    "<div align=\"center\">\n",
    "    <img src=\"https://d33wubrfki0l68.cloudfront.net/761b3558810672e58812008ee0ac8b24d55d6a1f/1e1d0/assets/images/deep-learning/tf_data_no_augmentation_cifar.png\" width=\"500\">\n",
    "    <br>\n",
    "    <i>Upsampled examples from the CIFAR dataset before any data augmentation was applied.</i>\n",
    "</div>\n",
    "<br>"
   ]
  },
  {
   "cell_type": "markdown",
   "metadata": {},
   "source": [
    "## Implementing augmentations"
   ]
  },
  {
   "cell_type": "markdown",
   "metadata": {},
   "source": [
    "Augmentation 과정을 적용하기 위해서는 'augmenter functions'을 만드는 방법이 좋다. 이 함수는 image(a tf.Tensor)을 입력받아 augmented image를 출력한다. Augmentation 과정(operation)을 각각의 함수로 정의하고 불러온 dataset에 적용해보자.\n",
    "\n",
    "augmenter functions의 기본적인 틀은 다음과 같다."
   ]
  },
  {
   "cell_type": "code",
   "execution_count": null,
   "metadata": {},
   "outputs": [],
   "source": [
    "def augment(x: tf.Tensor) -> tf.Tensor:\n",
    "    \"\"\"Some augmentation\n",
    "\n",
    "    Args:\n",
    "        x: Image\n",
    "\n",
    "    Returns:\n",
    "        Augmented image\n",
    "    \"\"\"\n",
    "    x = .... # augmentation here\n",
    "    return x"
   ]
  },
  {
   "cell_type": "markdown",
   "metadata": {},
   "source": [
    "여기서는 아래의 방법을 함수로 정의해볼 것이다.\n",
    "\n",
    "* Orientation (flipping and rotation)\n",
    "* Color augmentations (hue, saturation, brightness, contrast)\n",
    "* Zooming\n",
    "\n",
    "<i><font color=gray>Not all of these augmentations are necessarily applicable to CIFAR10; e.g. learning to detect flipped trucks is maybe not that beneficial for the task at hand. Nevertheless, I show them here as an example as they can be useful for tasks that are more orientation invariant. Of course, there are many more augmentations that could be useful, but most of them follow the same approach.<font></i>"
   ]
  },
  {
   "cell_type": "markdown",
   "metadata": {},
   "source": [
    "## Rotation and flipping"
   ]
  },
  {
   "cell_type": "markdown",
   "metadata": {},
   "source": [
    "### Rotation\n",
    "\n",
    "가장 간단한 augmentation 방법은 image를 90도 회전시키는 것이다. 이 방법은 Tensorflow의 `rot90` function을 이용하면 된다. 무작위 각도로 생성하기 위해서는 각각의 이미지에 Random function을 동시에 적용하면 된다. Random function은 통계적인 방법을 사용해서 number을 생성할 것이다."
   ]
  },
  {
   "cell_type": "code",
   "execution_count": null,
   "metadata": {},
   "outputs": [],
   "source": [
    "def rotate(x: tf.Tensor) -> tf.Tensor:\n",
    "    \"\"\"Rotation augmentation\n",
    "\n",
    "    Args:\n",
    "        x: Image\n",
    "\n",
    "    Returns:\n",
    "        Augmented image\n",
    "    \"\"\"\n",
    "\n",
    "    # Rotate 0, 90, 180, 270 degrees, If want -90 ~ 90, minval = -1, maxval=1.\n",
    "    return tf.image.rot90(x, tf.random_uniform(shape=[], minval=0, maxval=4, dtype=tf.int32))"
   ]
  },
  {
   "cell_type": "code",
   "execution_count": null,
   "metadata": {},
   "outputs": [],
   "source": [
    "#plot_images(dataset.map(lambda x : rotate(x)), 8, 10)"
   ]
  },
  {
   "cell_type": "markdown",
   "metadata": {},
   "source": [
    "<br>\n",
    "<div align=\"center\">\n",
    "    <img src=\"https://d33wubrfki0l68.cloudfront.net/c734a00105e0444b23373d380b3c737762d4a370/0071a/assets/images/deep-learning/tf_data_rotate.png\" width=\"500\">\n",
    "    <br>\n",
    "    <i>Random rotation applied to the dataset. Images of trucks are possibly not the best examples to demonstrate rotations on ;)</i>\n",
    "</div>\n",
    "<br>"
   ]
  },
  {
   "cell_type": "markdown",
   "metadata": {},
   "source": [
    "### Flipping\n",
    "\n",
    "Flipping도 간단한 augmentation 방법 중 하나다. Flipping은  `random_flip_left_right` and `random_flip_up_down`안에 random number 생성 과정이 내장되어 있기때문에 그대로 사용하면된다."
   ]
  },
  {
   "cell_type": "code",
   "execution_count": null,
   "metadata": {},
   "outputs": [],
   "source": [
    "def flip(x: tf.Tensor) -> tf.Tensor:\n",
    "    \"\"\"Flip augmentation\n",
    "\n",
    "    Args:\n",
    "        x: Image to flip\n",
    "\n",
    "    Returns:\n",
    "        Augmented image\n",
    "    \"\"\"\n",
    "    x = tf.image.random_flip_left_right(x)\n",
    "    x = tf.image.random_flip_up_down(x)\n",
    "\n",
    "    return x"
   ]
  },
  {
   "cell_type": "code",
   "execution_count": null,
   "metadata": {},
   "outputs": [],
   "source": [
    "#plot_images(dataset.map(lambda x : flip(x)), 8, 10)"
   ]
  },
  {
   "cell_type": "markdown",
   "metadata": {},
   "source": [
    "\n",
    "<br>\n",
    "<div align=\"center\">\n",
    "    <img src=\"https://d33wubrfki0l68.cloudfront.net/7dccce8bb1297fd1ce677ea768fbb547a8be9219/0a44d/assets/images/deep-learning/tf_data_flip.png\" width=\"500\">\n",
    "    <br>\n",
    "    <i>Random flips applied to the dataset.</i>\n",
    "</div>\n",
    "<br>"
   ]
  },
  {
   "cell_type": "markdown",
   "metadata": {},
   "source": [
    "## Color augmentations"
   ]
  },
  {
   "cell_type": "markdown",
   "metadata": {},
   "source": [
    "Color augmentations은 거의 모든 image leanring task에 적용되고 있다. Tensorflow에서는 4가지 color augmentations를 제공하고 있다.\n",
    "* [hue](https://www.tensorflow.org/api_docs/python/tf/image/random_hue)\n",
    "* [asturation](https://www.tensorflow.org/api_docs/python/tf/image/random_saturation)\n",
    "* [brightness](https://www.tensorflow.org/api_docs/python/tf/image/random_brightness)\n",
    "* [contrast](https://www.tensorflow.org/api_docs/python/tf/image/random_contrast)\n",
    "\n",
    "이 함수는 range값만 필요하며, 각 이미지에 고유한(unique) augmentation을 적용하여 결과를 보여준다."
   ]
  },
  {
   "cell_type": "code",
   "execution_count": null,
   "metadata": {},
   "outputs": [],
   "source": [
    "def color(x: tf.Tensor) -> tf.Tensor:\n",
    "    \"\"\"Color augmentation\n",
    "\n",
    "    Args:\n",
    "        x: Image\n",
    "\n",
    "    Returns:\n",
    "        Augmented image\n",
    "    \"\"\"\n",
    "    x = tf.image.random_hue(x, 0.08)\n",
    "    x = tf.image.random_saturation(x, 0.6, 1.6)\n",
    "    x = tf.image.random_brightness(x, 0.05)\n",
    "    x = tf.image.random_contrast(x, 0.7, 1.3)\n",
    "    return x"
   ]
  },
  {
   "cell_type": "code",
   "execution_count": null,
   "metadata": {},
   "outputs": [],
   "source": [
    "#plot_images(dataset.map(lambda x : color(x)), 8, 8)"
   ]
  },
  {
   "cell_type": "markdown",
   "metadata": {},
   "source": [
    "<br>\n",
    "<div align=\"center\">\n",
    "    <img src=\"https://d33wubrfki0l68.cloudfront.net/c888f20a50373a8015eb29692c4f2e5851c6fbc4/54f16/assets/images/deep-learning/tf_data_color.png\" width=\"500\">\n",
    "    <br>\n",
    "    <i>Color augmentations applied to the dataset. These values can be tuned to fit the target dataset.</i>\n",
    "</div>\n",
    "<br>"
   ]
  },
  {
   "cell_type": "markdown",
   "metadata": {},
   "source": [
    "## Zooming"
   ]
  },
  {
   "cell_type": "markdown",
   "metadata": {},
   "source": [
    "Zooming은 object size에 작은 변화를 주면서 network를 견고하게(robust) 만들수 있는 매우좋은(powerful) 방법이다. 이 방법은 단일 함수로 완벽하게 작동하지 않기때문에(_there is no single function that performs this operation completely_) 실행하기 조금 어렵다. Tensorflow의 `crop_and_resize` 함수를 사용하면 이미지를 자르고(crop) 무작위(arbitrary) 크기로 조정(resize)해준다. 이 함수는 crop하기위한 normalized coordinate(좌표값인듯)을 포함하는 list of ‘crop boxes’값이 필요하다.\n",
    "\n",
    "아래 함수에서는 numpy를 사용해서 20개의 crop box를 생성할 것이다. 각 box는 한번씩 `crop_and_resize` fucntion을 통과하고, 각 box로 crop된 image를 출력한다. 여기서는 총 20개의 이미지(potential cropped images)를 생성할 것이며,`tf.random_uniform`을 사용해서 이미지 하나를 무작위로 선택할 것이다. `tf.random_uniform`은 학습하는동안 새로운 number를 생성하므로 사용해도좋다.\n",
    "\n",
    "학습 시에 data가 초기의 차원수(original dimension)을 유지할 수 있도록, `tf.cond`를 사용할 것이다. `tf.cond` 함수는 3개의 parameter(`predicate`(or condition), `ture_fn`(true function), `false`)가 필요하다. predicate는 `true_fn` or `false_fn`을 적용한 후에, true or false를 평가하는 operation이다. 여기서는 셀의 50%만 true를 return 할 수 있도록 random number generator을 사용할 것이다.`true_fn`은 cropping function을 적용하는 함수이며, `false_fn`은 원본 이미지를 retrun하는 identity function이다.\n",
    "\n",
    "__Note:__ augmenter functions에는 random number 생성에 `np.random`을 쓰지 않는 것이 좋다. 이 함수는 TF data pipeline에서 한번만 생성되기때문에 모든 이미지에 대해 같은 augmentation이 적용된다."
   ]
  },
  {
   "cell_type": "code",
   "execution_count": null,
   "metadata": {},
   "outputs": [],
   "source": [
    "def zoom(x: tf.Tensor) -> tf.Tensor:\n",
    "    \"\"\"Zoom augmentation\n",
    "\n",
    "    Args:\n",
    "        x: Image\n",
    "\n",
    "    Returns:\n",
    "        Augmented image\n",
    "    \"\"\"\n",
    "    \n",
    "    #Generate 20 crop settings, ranging from a 1% to 20% crop.\n",
    "    scales = list(np.arange(0.8, 1.0, 0.01))\n",
    "    boxes = np.zeros((len(scales), 4))\n",
    "    \n",
    "    for i, scale in enumerate(scales):\n",
    "        x1 = y1 = 0.5 - (0.5 * scale)\n",
    "        x2 = y2 = 0.5 + (0.5 * scale)\n",
    "        boxes[i] = [x1,y1,x2,y2]\n",
    "        \n",
    "    def random_crop(img):\n",
    "        # Create different crops for an image\n",
    "        crops = tf.image.crop_and_resize([img], boxes=boxes, box_ind=np.zeros(len(scales)), crop_size=(32, 32))\n",
    "        # Return a random crop\n",
    "        return crops[tf.random_uniform(shape=[], minval=0, maxval=len(scales), dtype=tf.int32)]\n",
    "    \n",
    "    choice = tf.random_uniform(shape=[], minval=0, maxval=1, dtype=tf.float32)\n",
    "    \n",
    "    #Only apply cropiing 50% of the time\n",
    "    return tf.cond(choice < 0.5, lambda: x, lambda: random_crop(x))\n"
   ]
  },
  {
   "cell_type": "code",
   "execution_count": null,
   "metadata": {},
   "outputs": [],
   "source": [
    "#plot_images(dataset.map(lambda x : zoom(x)), 8, 8)"
   ]
  },
  {
   "cell_type": "markdown",
   "metadata": {},
   "source": [
    "<br>\n",
    "<div align=\"center\">\n",
    "    <img src=\"https://d33wubrfki0l68.cloudfront.net/eab1fa7237a3da0a384a96b7d0b8bcc9424c0738/811e6/assets/images/deep-learning/tf_data_zoom.png\" width=\"400\">\n",
    "    <br>\n",
    "    <i>Random zooms applied to the dataset. The effect can be subtle.</i>\n",
    "</div>\n",
    "<br>"
   ]
  },
  {
   "cell_type": "markdown",
   "metadata": {},
   "source": [
    "## Augmenting the Dataset"
   ]
  },
  {
   "cell_type": "markdown",
   "metadata": {},
   "source": [
    "모든 함수를 single pipeline으로 결합해보자. `map function`을 사용하면, Tensorflow Dataset에 쉽게 적용할 수 있다. `map`은 함수를 받아서 augmented dataset로 돌려준다. 새로운 dataset을 평가하기위해서, 모든 요소들을 적용한 새로운 operation 함수를 정의할 것이다. map function을 연결하면(Chaining map functions) 새로운 data에 반복적으로 operation을 적용할 수 있다.\n",
    "\n",
    "이 과정(operation)의 속도를 향상시키기위해 Tensorflow operation이 지원하는 병렬 연산을 수행할 것이다(we can execute them in parallel). tf.Data API에서 `num_parallel_calls`를 map 함수에 사용하면 된다. parameter의 수는 CPU가 연산 가능한 숫자로 적용해야 한다.\n",
    "\n",
    "__Note:__ 몇 가지 operation은 image의 값이 normal range(0,1)를 벗어날 수도 있다. 따라서 해당 범위를 넘지않도록 clipping 함수인 `tf.clip_by_value`를 사용하는 방법을 추천한다."
   ]
  },
  {
   "cell_type": "code",
   "execution_count": null,
   "metadata": {},
   "outputs": [],
   "source": [
    "augmentations = [flip, color, zoom, rotate]\n",
    "\n",
    "#Add the agumentations to the dataset\n",
    "for f in augmentations:\n",
    "    #Apply the augmentation, run 4 jobs in parallel.\n",
    "    dataset = dataset.map(f, num_parallel_calls=4)\n",
    "    \n",
    "# Make sure that the values are still in [0, 1]\n",
    "dataset = dataset.map(lambda x: tf.clip_by_value(x, 0, 1), num_parallel_calls=4)"
   ]
  },
  {
   "cell_type": "code",
   "execution_count": null,
   "metadata": {},
   "outputs": [],
   "source": [
    "#plot_images(dataset, n_images=8, samples_per_image=10)"
   ]
  },
  {
   "cell_type": "markdown",
   "metadata": {},
   "source": [
    "<br>\n",
    "<div align=\"center\">\n",
    "    <img src=\"https://d33wubrfki0l68.cloudfront.net/7da02efb6033dd8323d7b565b7078eae6790fe3d/f32f8/assets/images/deep-learning/tf_data_augmented.png\" width=\"400\">\n",
    "    <br>\n",
    "    <i>All augmentations applied to the dataset. The frequency of the augmentations is high for illustration purposes. For training it is probably beneficial to make the augmentations a bit less extreme.</i>\n",
    "</div>\n",
    "<br>"
   ]
  },
  {
   "cell_type": "markdown",
   "metadata": {},
   "source": [
    "Augmentation을 적용할 때, 특정 비율의 데이터에만 적용할 수도 있다. zoom 함수를 만들때 사용했던 `tf.cond`와 `tf.random_uniform`을 함께 사용하면 된다."
   ]
  },
  {
   "cell_type": "code",
   "execution_count": null,
   "metadata": {},
   "outputs": [],
   "source": [
    "for f in augmentations:\n",
    "    # Apply an augmentation only in 25% of the cases.\n",
    "    dataset = dataset.map(lambda x: tf.cond(tf.random_uniform([], 0, 1) > 0.75, lambda: f(x), lambda: x), num_parallel_calls=4)"
   ]
  },
  {
   "cell_type": "code",
   "execution_count": null,
   "metadata": {},
   "outputs": [],
   "source": [
    "#plot_images(dataset, 8, 10)"
   ]
  },
  {
   "cell_type": "markdown",
   "metadata": {},
   "source": [
    "<br>\n",
    "<div align=\"center\">\n",
    "    <img src=\"https://d33wubrfki0l68.cloudfront.net/700a05fdf4b1e9abd3923d94f8c4529b8e38421f/41be1/assets/images/deep-learning/tf_data_partially_augmented.png\" width=\"400\">\n",
    "    <br>\n",
    "    <i>All augmentations applied to the dataset, now with a lower frequency.</i>\n",
    "</div>\n",
    "<br>"
   ]
  },
  {
   "cell_type": "markdown",
   "metadata": {},
   "source": [
    "더 많은 augmentation 함수를 추가하고 싶으면, 함수를 정의하고 간단하게 agumentation list에 추가하면 된다. "
   ]
  },
  {
   "cell_type": "markdown",
   "metadata": {},
   "source": [
    "## Full code example used in this post"
   ]
  },
  {
   "cell_type": "code",
   "execution_count": null,
   "metadata": {},
   "outputs": [],
   "source": [
    "import tensorflow as tf\n",
    "\n",
    "import numpy as np\n",
    "import matplotlib.pyplot as plt\n",
    "\n",
    "def plot_images(dataset, n_images, samples_per_image):\n",
    "    output = np.zeros((32 * n_images, 32 * samples_per_image, 3))\n",
    "\n",
    "    row = 0\n",
    "    for images in dataset.repeat(samples_per_image).batch(n_images):\n",
    "        output[:, row*32:(row+1)*32] = np.vstack(images.numpy())\n",
    "        row += 1\n",
    "\n",
    "    plt.figure()\n",
    "    plt.imshow(output)\n",
    "    plt.show()\n",
    "\n",
    "def flip(x: tf.Tensor) -> tf.Tensor:\n",
    "    \"\"\"Flip augmentation\n",
    "\n",
    "    Args:\n",
    "        x: Image to flip\n",
    "\n",
    "    Returns:\n",
    "        Augmented image\n",
    "    \"\"\"\n",
    "    x = tf.image.random_flip_left_right(x)\n",
    "    x = tf.image.random_flip_up_down(x)\n",
    "\n",
    "    return x\n",
    "\n",
    "def color(x: tf.Tensor) -> tf.Tensor:\n",
    "    \"\"\"Color augmentation\n",
    "\n",
    "    Args:\n",
    "        x: Image\n",
    "\n",
    "    Returns:\n",
    "        Augmented image\n",
    "    \"\"\"\n",
    "    x = tf.image.random_hue(x, 0.08)\n",
    "    x = tf.image.random_saturation(x, 0.6, 1.6)\n",
    "    x = tf.image.random_brightness(x, 0.05)\n",
    "    x = tf.image.random_contrast(x, 0.7, 1.3)\n",
    "    return x\n",
    "\n",
    "def rotate(x: tf.Tensor) -> tf.Tensor:\n",
    "    \"\"\"Rotation augmentation\n",
    "\n",
    "    Args:\n",
    "        x: Image\n",
    "\n",
    "    Returns:\n",
    "        Augmented image\n",
    "    \"\"\"\n",
    "\n",
    "    return tf.image.rot90(x, tf.random_uniform(shape=[], minval=0, maxval=4, dtype=tf.int32))\n",
    "\n",
    "def zoom(x: tf.Tensor) -> tf.Tensor:\n",
    "    \"\"\"Zoom augmentation\n",
    "\n",
    "    Args:\n",
    "        x: Image\n",
    "\n",
    "    Returns:\n",
    "        Augmented image\n",
    "    \"\"\"\n",
    "\n",
    "    # Generate 20 crop settings, ranging from a 1% to 20% crop.\n",
    "    scales = list(np.arange(0.8, 1.0, 0.01))\n",
    "    boxes = np.zeros((len(scales), 4))\n",
    "\n",
    "    for i, scale in enumerate(scales):\n",
    "        x1 = y1 = 0.5 - (0.5 * scale)\n",
    "        x2 = y2 = 0.5 + (0.5 * scale)\n",
    "        boxes[i] = [x1, y1, x2, y2]\n",
    "\n",
    "    def random_crop(img):\n",
    "        # Create different crops for an image\n",
    "        crops = tf.image.crop_and_resize([img], boxes=boxes, box_ind=np.zeros(len(scales)), crop_size=(32, 32))\n",
    "        # Return a random crop\n",
    "        return crops[tf.random_uniform(shape=[], minval=0, maxval=len(scales), dtype=tf.int32)]\n",
    "\n",
    "\n",
    "    choice = tf.random_uniform(shape=[], minval=0., maxval=1., dtype=tf.float32)\n",
    "\n",
    "    # Only apply cropping 50% of the time\n",
    "    return tf.cond(choice < 0.5, lambda: x, lambda: random_crop(x))\n",
    "\n",
    "(x_train, y_train), (x_test, y_test) = tf.keras.datasets.cifar10.load_data()\n",
    "\n",
    "data = (x_train[0:8] / 255).astype(np.float32)\n",
    "dataset = tf.data.Dataset.from_tensor_slices(data)\n",
    "\n",
    "# Add augmentations\n",
    "augmentations = [flip, color, zoom, rotate]\n",
    "\n",
    "for f in augmentations:\n",
    "    dataset = dataset.map(lambda x: tf.cond(tf.random_uniform([], 0, 1) > 0.75, lambda: f(x), lambda: x), num_parallel_calls=4)\n",
    "dataset = dataset.map(lambda x: tf.clip_by_value(x, 0, 1))\n",
    "\n",
    "plot_images(dataset, n_images=8, samples_per_image=10)"
   ]
  }
 ],
 "metadata": {
  "kernelspec": {
   "display_name": "Python 3",
   "language": "python",
   "name": "python3"
  },
  "language_info": {
   "codemirror_mode": {
    "name": "ipython",
    "version": 3
   },
   "file_extension": ".py",
   "mimetype": "text/x-python",
   "name": "python",
   "nbconvert_exporter": "python",
   "pygments_lexer": "ipython3",
   "version": "3.6.8"
  }
 },
 "nbformat": 4,
 "nbformat_minor": 2
}
